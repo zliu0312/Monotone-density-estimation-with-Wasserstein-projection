{
 "cells": [
  {
   "cell_type": "code",
   "execution_count": 50,
   "id": "28948076",
   "metadata": {},
   "outputs": [],
   "source": [
    "def convex_projection(u_grid, quantiles):\n",
    "    # Convex projection in L2 using quadratic programming\n",
    "    n = len(u_grid)\n",
    "    Q = Variable(n) # Q as an optimization variable of length n\n",
    "\n",
    "    #minimize the squared L2 distance between Q and the empirical quantile Q_emp\n",
    "    objective = Minimize((1/n) * sum((Q[i] - quantiles[i])**2 for i in range(n)))  \n",
    "    \n",
    "    constraints = [Q[0] == 0]  # Q(0) = 0\n",
    "    constraints += [Q[i] <= Q[i+1] for i in range(n - 1)]  # monotonicity\n",
    "    constraints += [Q[i+2] - 2*Q[i+1] + Q[i] >= 0 for i in range(n - 2)]  # convexity, second difference > 0\n",
    "\n",
    "    prob = Problem(objective, constraints)\n",
    "    prob.solve()\n",
    "    \n",
    "    return Q.value"
   ]
  },
  {
   "cell_type": "code",
   "execution_count": 6,
   "id": "1fe6f1f4",
   "metadata": {},
   "outputs": [
    {
     "name": "stdout",
     "output_type": "stream",
     "text": [
      "Requirement already satisfied: cvxpy in c:\\users\\charl\\onedrive - mcgill university\\mcgill\\utssrp research project\\venv\\lib\\site-packages (1.6.5)\n",
      "Requirement already satisfied: osqp>=0.6.2 in c:\\users\\charl\\onedrive - mcgill university\\mcgill\\utssrp research project\\venv\\lib\\site-packages (from cvxpy) (1.0.4)\n",
      "Requirement already satisfied: clarabel>=0.5.0 in c:\\users\\charl\\onedrive - mcgill university\\mcgill\\utssrp research project\\venv\\lib\\site-packages (from cvxpy) (0.11.0)\n",
      "Requirement already satisfied: scs>=3.2.4.post1 in c:\\users\\charl\\onedrive - mcgill university\\mcgill\\utssrp research project\\venv\\lib\\site-packages (from cvxpy) (3.2.7.post2)\n",
      "Requirement already satisfied: numpy>=1.21.6 in c:\\users\\charl\\onedrive - mcgill university\\mcgill\\utssrp research project\\venv\\lib\\site-packages (from cvxpy) (2.2.6)\n",
      "Requirement already satisfied: scipy>=1.11.0 in c:\\users\\charl\\onedrive - mcgill university\\mcgill\\utssrp research project\\venv\\lib\\site-packages (from cvxpy) (1.15.3)\n",
      "Requirement already satisfied: cffi in c:\\users\\charl\\onedrive - mcgill university\\mcgill\\utssrp research project\\venv\\lib\\site-packages (from clarabel>=0.5.0->cvxpy) (1.17.1)\n",
      "Requirement already satisfied: jinja2 in c:\\users\\charl\\onedrive - mcgill university\\mcgill\\utssrp research project\\venv\\lib\\site-packages (from osqp>=0.6.2->cvxpy) (3.1.6)\n",
      "Requirement already satisfied: setuptools in c:\\users\\charl\\onedrive - mcgill university\\mcgill\\utssrp research project\\venv\\lib\\site-packages (from osqp>=0.6.2->cvxpy) (80.9.0)\n",
      "Requirement already satisfied: joblib in c:\\users\\charl\\onedrive - mcgill university\\mcgill\\utssrp research project\\venv\\lib\\site-packages (from osqp>=0.6.2->cvxpy) (1.5.1)\n",
      "Requirement already satisfied: pycparser in c:\\users\\charl\\onedrive - mcgill university\\mcgill\\utssrp research project\\venv\\lib\\site-packages (from cffi->clarabel>=0.5.0->cvxpy) (2.22)\n",
      "Requirement already satisfied: MarkupSafe>=2.0 in c:\\users\\charl\\onedrive - mcgill university\\mcgill\\utssrp research project\\venv\\lib\\site-packages (from jinja2->osqp>=0.6.2->cvxpy) (3.0.2)\n"
     ]
    },
    {
     "name": "stderr",
     "output_type": "stream",
     "text": [
      "\n",
      "[notice] A new release of pip is available: 25.0.1 -> 25.1.1\n",
      "[notice] To update, run: python.exe -m pip install --upgrade pip\n"
     ]
    }
   ],
   "source": [
    "!pip install cvxpy\n"
   ]
  },
  {
   "cell_type": "code",
   "execution_count": 51,
   "id": "35263aad",
   "metadata": {},
   "outputs": [],
   "source": [
    "import numpy as np\n",
    "import matplotlib.pyplot as plt\n",
    "from scipy.interpolate import interp1d\n",
    "from sklearn.isotonic import IsotonicRegression\n",
    "from cvxpy import Variable, Problem, Minimize\n",
    "def empirical_quantile(data, grid_size=1000):\n",
    "    data = np.sort(data) # increasing order\n",
    "    n = len(data)     # number of data points\n",
    "    u_grid = np.linspace(0, 1, grid_size) # Creates a grid of quantile levels u from 0 to 1\n",
    "    # maps u -> Q(u)\n",
    "    quantiles = np.interp(u_grid, np.linspace(0, 1, n, endpoint=False), data) # quantile levels i/n\n",
    "    quantiles[0] = 0 \n",
    "    return u_grid, quantiles\n",
    "\n",
    "def convex_projection(u_grid, quantiles):\n",
    "    # Convex projection in L2 using quadratic programming\n",
    "    n = len(u_grid)\n",
    "    Q = Variable(n) # Q as an optimization variable of length n\n",
    "    #minimize the squared L2 distance between Q and the empirical quantile Q_emp\n",
    "    objective = Minimize((1/n) * sum((Q[i] - quantiles[i])**2 for i in range(n)))  \n",
    "    constraints = [Q[0] == 0] \n",
    "    constraints += [Q[i] <= Q[i+1] for i in range(n - 1)]  # monotonicity\n",
    "    constraints += [Q[i+2] - 2*Q[i+1] + Q[i] >= 0 for i in range(n - 2)]  # convexity, second difference > 0\n",
    "\n",
    "    prob = Problem(objective, constraints)\n",
    "    prob.solve()\n",
    "    return Q.value , prob.value\n",
    "\n",
    "def estimate_density(u_grid, projected_quantiles):\n",
    "    # inverting it\n",
    "    cdf_inv = interp1d(projected_quantiles, u_grid, bounds_error=False, fill_value=(0,1)) # define a numerical inverse\n",
    "    x_vals = np.linspace(projected_quantiles[1], projected_quantiles[-1], 500) #Generate 500 x values in the range of interest\n",
    "    u_vals = cdf_inv(x_vals) # u = F(x)\n",
    "    density_vals = np.gradient(u_vals, x_vals) # du/dx ≈ f(x)\n",
    "    return x_vals, density_vals"
   ]
  },
  {
   "cell_type": "code",
   "execution_count": 52,
   "id": "a92c13dd",
   "metadata": {
    "scrolled": true
   },
   "outputs": [
    {
     "data": {
      "image/png": "[encoded data removed]",
      "text/plain": [
       "<Figure size 640x480 with 1 Axes>"
      ]
     },
     "metadata": {},
     "output_type": "display_data"
    }
   ],
   "source": [
    "data = np.random.exponential(scale=1.0, size=5000) # 500 random samples from an Exponential(λ=1) distribution\n",
    "\n",
    "u, Q_emp = empirical_quantile(data) #Computes the empirical quantile function\n",
    "#Applies a Wasserstein-based convex projection to the empirical quantile function Q_emp, producing a monotone, convex-optimized quantile function\n",
    "Q_proj = convex_projection(u, Q_emp)[0]\n",
    "#estimates the probability density function corresponding to the smoothed quantile function Q_proj\n",
    "x, f_hat = estimate_density(u, Q_proj)\n",
    "\n",
    "# plt.plot(x, f_hat, label='Wasserstein density estimate')\n",
    "plt.hist(data, bins=30, density=True, alpha=0.3, label='Histogram')\n",
    "plt.legend()\n",
    "plt.xlabel(\"x\")\n",
    "plt.ylabel(\"Density\")\n",
    "plt.show()"
   ]
  },
  {
   "cell_type": "code",
   "execution_count": null,
   "id": "b576f745",
   "metadata": {},
   "outputs": [],
   "source": []
  },
  {
   "cell_type": "code",
   "execution_count": 53,
   "id": "ab0e9afe",
   "metadata": {},
   "outputs": [
    {
     "name": "stdout",
     "output_type": "stream",
     "text": [
      "50000\n",
      "55000\n",
      "60000\n",
      "65000\n",
      "70000\n",
      "75000\n",
      "80000\n",
      "85000\n",
      "90000\n",
      "95000\n",
      "100000\n",
      "105000\n",
      "110000\n",
      "115000\n",
      "120000\n",
      "125000\n",
      "130000\n",
      "135000\n",
      "140000\n",
      "145000\n",
      "150000\n",
      "155000\n",
      "160000\n",
      "165000\n",
      "170000\n",
      "175000\n",
      "180000\n",
      "185000\n",
      "190000\n",
      "195000\n",
      "200000\n",
      "205000\n",
      "210000\n",
      "215000\n",
      "220000\n",
      "225000\n",
      "230000\n",
      "235000\n",
      "240000\n",
      "245000\n",
      "250000\n",
      "255000\n",
      "260000\n",
      "265000\n",
      "270000\n",
      "275000\n",
      "280000\n",
      "285000\n",
      "290000\n",
      "295000\n",
      "300000\n",
      "305000\n",
      "310000\n",
      "315000\n",
      "320000\n",
      "325000\n",
      "330000\n",
      "335000\n",
      "340000\n",
      "345000\n",
      "350000\n",
      "355000\n",
      "360000\n",
      "365000\n",
      "370000\n",
      "375000\n",
      "380000\n",
      "385000\n",
      "390000\n",
      "395000\n",
      "400000\n",
      "405000\n",
      "410000\n",
      "415000\n",
      "420000\n",
      "425000\n",
      "430000\n",
      "435000\n",
      "440000\n",
      "445000\n",
      "450000\n",
      "455000\n",
      "460000\n",
      "465000\n",
      "470000\n",
      "475000\n",
      "480000\n",
      "485000\n",
      "490000\n",
      "495000\n",
      "500000\n",
      "505000\n",
      "510000\n",
      "515000\n",
      "520000\n",
      "525000\n",
      "530000\n",
      "535000\n",
      "540000\n",
      "545000\n",
      "550000\n",
      "555000\n",
      "560000\n",
      "565000\n",
      "570000\n",
      "575000\n",
      "580000\n",
      "585000\n",
      "590000\n",
      "595000\n",
      "600000\n",
      "605000\n",
      "610000\n",
      "615000\n",
      "620000\n",
      "625000\n",
      "630000\n",
      "635000\n",
      "640000\n",
      "645000\n",
      "650000\n",
      "655000\n",
      "660000\n",
      "665000\n",
      "670000\n",
      "675000\n",
      "680000\n",
      "685000\n",
      "690000\n",
      "695000\n",
      "700000\n",
      "705000\n",
      "710000\n",
      "715000\n",
      "720000\n",
      "725000\n",
      "730000\n",
      "735000\n",
      "740000\n",
      "745000\n",
      "750000\n",
      "755000\n",
      "760000\n",
      "765000\n",
      "770000\n",
      "775000\n",
      "780000\n",
      "785000\n",
      "790000\n",
      "795000\n",
      "800000\n",
      "805000\n",
      "810000\n",
      "815000\n",
      "820000\n",
      "825000\n",
      "830000\n",
      "835000\n",
      "840000\n",
      "845000\n",
      "850000\n",
      "855000\n",
      "860000\n",
      "865000\n",
      "870000\n",
      "875000\n",
      "880000\n",
      "885000\n",
      "890000\n",
      "895000\n",
      "900000\n",
      "905000\n",
      "910000\n",
      "915000\n",
      "920000\n",
      "925000\n",
      "930000\n",
      "935000\n",
      "940000\n",
      "945000\n",
      "950000\n",
      "955000\n",
      "960000\n",
      "965000\n",
      "970000\n",
      "975000\n",
      "980000\n",
      "985000\n",
      "990000\n",
      "995000\n"
     ]
    },
    {
     "data": {
      "image/png": "[encoded data removed]",
      "text/plain": [
       "<Figure size 600x400 with 1 Axes>"
      ]
     },
     "metadata": {},
     "output_type": "display_data"
    }
   ],
   "source": [
    "\n",
    "\n",
    "sample_size = []\n",
    "l2_distance = []\n",
    "data = np.random.exponential(scale=1.0, size=45000) \n",
    "\n",
    "n = 500\n",
    "for n in range(50000,1000000,5000):\n",
    "    print(n)\n",
    "    try:\n",
    "        other = np.random.exponential(scale=1.0, size=5000) \n",
    "        data = np.concatenate([data, other])\n",
    "        u, Q_emp = empirical_quantile(data) \n",
    "        distance = convex_projection(u, Q_emp)[1]\n",
    "        l2_distance.append(distance)\n",
    "        sample_size.append(n)\n",
    "    except Exception as e:\n",
    "        # Any solver failure or feasibility issue → skip this n\n",
    "        print(f\"solver failed for n = {n}: {e}\")\n",
    "        continue\n",
    "\n",
    "plt.figure(figsize=(6, 4))\n",
    "plt.scatter(sample_size, l2_distance, color=\"steelblue\", marker=\"o\")\n",
    "plt.xlabel(\"sample_size\")\n",
    "plt.ylabel(\"l2_distance\")\n",
    "plt.title(\"Scatter plot of sample_size vs. l2_distance\")\n",
    "plt.grid(True)\n",
    "plt.show()\n",
    "\n"
   ]
  },
  {
   "cell_type": "code",
   "execution_count": 54,
   "id": "23e21248",
   "metadata": {},
   "outputs": [],
   "source": [
    "np.savetxt(\"data.csv\", data.reshape(-1,1), delimiter=\",\")\n",
    "np.savetxt(\"Wasserstein_distance.csv\", l2_distance)\n"
   ]
  },
  {
   "cell_type": "code",
   "execution_count": 55,
   "id": "84c04d0f",
   "metadata": {},
   "outputs": [],
   "source": [
    "import pandas as pd\n",
    "l2_distance_df = pd.read_csv(\"Wasserstein_distance.csv\")\n",
    "# sample_size_a = range(50000,1000000,5000)\n",
    "sample_size_a = range(50000,1000000,5000)\n",
    "\n",
    "sample_size = np.array(list(sample_size_a[:-1]))\n",
    "l2_distance = l2_distance_df.iloc[:,0].tolist()\n",
    "sqrt_l2_distance = np.sqrt(l2_distance)\n",
    "ln_sqrt_l2_distance = np.log(sqrt_l2_distance)\n",
    "ln_sample_size = np.log(sample_size)\n",
    "# ln_sample_size, ln_sqrt_l2_distance"
   ]
  },
  {
   "cell_type": "code",
   "execution_count": 5,
   "id": "dbbfa206",
   "metadata": {},
   "outputs": [
    {
     "data": {
      "text/plain": [
       "189"
      ]
     },
     "execution_count": 5,
     "metadata": {},
     "output_type": "execute_result"
    }
   ],
   "source": [
    "len(ln_sample_size)\n",
    "# len(ln_sqrt_l2_distance)"
   ]
  },
  {
   "cell_type": "code",
   "execution_count": 49,
   "id": "dd61f7c6",
   "metadata": {},
   "outputs": [
    {
     "data": {
      "text/plain": [
       "190"
      ]
     },
     "execution_count": 49,
     "metadata": {},
     "output_type": "execute_result"
    }
   ],
   "source": [
    "len(sample_size_a)\n"
   ]
  },
  {
   "cell_type": "code",
   "execution_count": 41,
   "id": "c7b785c7",
   "metadata": {},
   "outputs": [
    {
     "data": {
      "text/plain": [
       "151"
      ]
     },
     "execution_count": 41,
     "metadata": {},
     "output_type": "execute_result"
    }
   ],
   "source": [
    "grenander_distance_df = pd.read_csv(\"grenander_distance .csv\")\n",
    "sample_size_grenander = np.array(list(grenander_distance_df.x))\n",
    "grenander_distance = np.array(list(grenander_distance_df.y))\n",
    "ln_grenander_distance = np.log(grenander_distance)\n",
    "ln_sample_size_grenander = np.log(sample_size_grenander)\n",
    "\n",
    "\n",
    "len(ln_grenander_distance)"
   ]
  },
  {
   "cell_type": "code",
   "execution_count": null,
   "id": "3411c658",
   "metadata": {},
   "outputs": [],
   "source": []
  },
  {
   "cell_type": "code",
   "execution_count": 60,
   "id": "b90758c4",
   "metadata": {
    "scrolled": false
   },
   "outputs": [
    {
     "data": {
      "image/png": "[encoded data removed]",
      "text/plain": [
       "<Figure size 600x400 with 1 Axes>"
      ]
     },
     "metadata": {},
     "output_type": "display_data"
    }
   ],
   "source": [
    "\n",
    "\n",
    "\n",
    "\n",
    "\n",
    "m = -0.5\n",
    "\n",
    "b = ln_sqrt_l2_distance[0] - m * ln_sample_size[0] - 0.6\n",
    "\n",
    "\n",
    "\n",
    "# build a reference x‐grid over the range of your log‐x data\n",
    "x_ref = np.linspace(ln_sample_size.min(), ln_sample_size.max(), 200)\n",
    "y_ref = m * x_ref + b\n",
    "\n",
    "\n",
    "plt.figure(figsize=(6, 4))\n",
    "plt.scatter(ln_sample_size, ln_sqrt_l2_distance, color=\"steelblue\", marker=\"o\")\n",
    "# plt.scatter(ln_sample_size_grenander, ln_grenander_distance, color=\"red\", marker=\"o\")\n",
    "\n",
    "\n",
    "\n",
    "plt.plot(x_ref, y_ref, color=\"firebrick\", lw=2,\n",
    "         label=r\"reference slope $-0.5$\")\n",
    "\n",
    "plt.xlabel(\"sample size(log)\")\n",
    "plt.ylabel(\"distance of Wasserstein estimator (log)\")\n",
    "plt.title(\"Log–Log scatter: sample size vs. distance of Wasserstein estimator\")\n",
    "plt.grid(True, which=\"both\", ls=\"--\", alpha=0.4)\n",
    "plt.show()\n"
   ]
  },
  {
   "cell_type": "code",
   "execution_count": 36,
   "id": "23c4e04e",
   "metadata": {},
   "outputs": [
    {
     "name": "stdout",
     "output_type": "stream",
     "text": [
      "979 979\n"
     ]
    }
   ],
   "source": [
    "print(len(ln_sample_size), len(ln_sqrt_l2_distance))\n",
    "\n",
    "\n"
   ]
  },
  {
   "cell_type": "code",
   "execution_count": 5,
   "id": "7dee9f68",
   "metadata": {},
   "outputs": [
    {
     "data": {
      "text/plain": [
       "(998999, 1)"
      ]
     },
     "execution_count": 5,
     "metadata": {},
     "output_type": "execute_result"
    }
   ],
   "source": [
    "data.shape\n",
    "\n",
    "\n",
    "\n"
   ]
  },
  {
   "cell_type": "code",
   "execution_count": null,
   "id": "1f464cb4",
   "metadata": {},
   "outputs": [],
   "source": []
  },
  {
   "cell_type": "code",
   "execution_count": null,
   "id": "02dfcbad",
   "metadata": {},
   "outputs": [
    {
     "ename": "SyntaxError",
     "evalue": "invalid syntax (2455667906.py, line 15)",
     "output_type": "error",
     "traceback": [
      "  \u001b[36mCell\u001b[39m\u001b[36m \u001b[39m\u001b[32mIn[9]\u001b[39m\u001b[32m, line 15\u001b[39m\n\u001b[31m    \u001b[39m\u001b[31ml2_distance_grenander_exp <- function(data, lambda = 1) {\u001b[39m\n                                                       ^\n\u001b[31mSyntaxError\u001b[39m\u001b[31m:\u001b[39m invalid syntax\n"
     ]
    }
   ],
   "source": []
  },
  {
   "cell_type": "code",
   "execution_count": null,
   "id": "39c24055",
   "metadata": {},
   "outputs": [],
   "source": []
  },
  {
   "cell_type": "code",
   "execution_count": null,
   "id": "5d136410",
   "metadata": {},
   "outputs": [],
   "source": []
  },
  {
   "cell_type": "code",
   "execution_count": null,
   "id": "a5a54792",
   "metadata": {},
   "outputs": [],
   "source": [
    "\n",
    "sample_size  = np.asarray(sample_size, dtype=float) \n",
    "x_inv = 1.0 / sample_size                   # 1/x\n",
    "\n",
    "plt.figure(figsize=(6, 4))\n",
    "plt.scatter(x_inv, l2_distance, color=\"steelblue\")\n",
    "\n",
    "plt.xlabel(\"1 / sample size\")\n",
    "plt.ylabel(\"L2 distance\")\n",
    "plt.title(\"Scatter plot: 1/n  vs  L2 distance\")\n",
    "plt.grid(True, which=\"both\", ls=\"--\", alpha=0.4)\n",
    "plt.show()\n"
   ]
  },
  {
   "cell_type": "code",
   "execution_count": null,
   "id": "b739c8af",
   "metadata": {},
   "outputs": [],
   "source": [
    "import numpy as np\n",
    "import matplotlib.pyplot as plt\n",
    "\n",
    "# Assume sample_size and l2_distance are Python lists already filled\n",
    "sample_size  = np.asarray(sample_size, dtype=float)\n",
    "l2_distance  = np.asarray(l2_distance, dtype=float)\n",
    "\n",
    "x_inv = 1.0 / sample_size                  # 1/n   (or 1/np.sqrt(sample_size) if you like)\n",
    "\n",
    "# ---------- 1. simple linear regression on the original scale ----------\n",
    "slope, intercept = np.polyfit(x_inv, l2_distance, deg=1)   # y ≈ intercept + slope·x\n",
    "y_hat = intercept + slope * x_inv\n",
    "\n",
    "plt.figure(figsize=(6, 4))\n",
    "plt.scatter(x_inv, l2_distance, color=\"steelblue\", label=\"data\")\n",
    "plt.plot(x_inv, y_hat, color=\"firebrick\", lw=2, label=f\"OLS line  y={intercept:.2g}+{slope:.2g}x\")\n",
    "\n",
    "plt.xlabel(\"1 / sample size\")\n",
    "plt.ylabel(\"L2 distance\")\n",
    "plt.title(\"Scatter with OLS regression line\")\n",
    "plt.grid(True, which=\"both\", ls=\"--\", alpha=0.4)\n",
    "plt.legend()\n",
    "plt.show()\n"
   ]
  },
  {
   "cell_type": "code",
   "execution_count": null,
   "id": "90f51dcd",
   "metadata": {},
   "outputs": [],
   "source": []
  },
  {
   "cell_type": "code",
   "execution_count": null,
   "id": "0d1273c3",
   "metadata": {},
   "outputs": [],
   "source": []
  },
  {
   "cell_type": "code",
   "execution_count": null,
   "id": "6fda0858",
   "metadata": {},
   "outputs": [],
   "source": []
  },
  {
   "cell_type": "code",
   "execution_count": null,
   "id": "794cb7d8",
   "metadata": {},
   "outputs": [],
   "source": []
  },
  {
   "cell_type": "code",
   "execution_count": null,
   "id": "2d9eccc5",
   "metadata": {},
   "outputs": [],
   "source": []
  },
  {
   "cell_type": "code",
   "execution_count": null,
   "id": "8b348368",
   "metadata": {
    "scrolled": true
   },
   "outputs": [],
   "source": [
    "\n",
    "sample_size  = np.asarray(sample_size, dtype=float) \n",
    "\n",
    "x_inv_sqrt = 1.0 / np.sqrt(sample_size) \n",
    "\n",
    "plt.figure(figsize=(6, 4))\n",
    "plt.scatter(x_inv, l2_distance, color=\"steelblue\")\n",
    "\n",
    "# plt.xscale(\"log\")                           # optional: log scale for 1/x\n",
    "# plt.yscale(\"log\")                           # optional\n",
    "plt.xlabel(\"1 / sample size\")\n",
    "plt.ylabel(\"L2 distance\")\n",
    "plt.title(\"Scatter plot: 1/sqrt(n)  vs  L2 distance\")\n",
    "plt.grid(True, which=\"both\", ls=\"--\", alpha=0.4)\n",
    "plt.show()\n"
   ]
  },
  {
   "cell_type": "code",
   "execution_count": null,
   "id": "7bd4fe3c",
   "metadata": {},
   "outputs": [
    {
     "name": "stdout",
     "output_type": "stream",
     "text": [
      "       x         y\n",
      "0  20000  0.030722\n",
      "1  20500  0.030021\n",
      "2  21000  0.030129\n",
      "3  21500  0.029337\n",
      "4  22000  0.029318\n"
     ]
    }
   ],
   "source": [
    "import numpy as np\n",
    "import pandas as pd\n",
    "import rpy2.robjects as ro\n",
    "from rpy2.robjects import numpy2ri\n",
    "from rpy2.robjects.conversion import localconverter\n",
    "from PIL import Image\n",
    "import os\n",
    "\n",
    "def grenander_data(data, start, step, end, l):\n",
    "    # Activate numpy to R conversion\n",
    "    with localconverter(ro.default_converter + numpy2ri.converter):\n",
    "        ro.globalenv['data_r'] = ro.conversion.py2rpy(data)\n",
    "        ro.globalenv['start'] = ro.conversion.py2rpy(start)\n",
    "        ro.globalenv['step'] = ro.conversion.py2rpy(step)\n",
    "        ro.globalenv['end'] = ro.conversion.py2rpy(end)\n",
    "        ro.globalenv['lambda'] = ro.conversion.py2rpy(l)\n",
    "\n",
    "    # R script to run\n",
    "    ro.r('''\n",
    "        library(ggplot2)\n",
    "        library(fdrtool)\n",
    "        library(patchwork)\n",
    "\n",
    "        l2_distance_grenander_exp <- function(data, lambda) {\n",
    "            F <- ecdf(data)\n",
    "            g <- grenander(F)\n",
    "            x_knots <- g$x.knots\n",
    "            f_knots <- g$f.knots\n",
    "\n",
    "            l2_sq_sum <- 0\n",
    "            for (i in 1:(length(x_knots) - 1)) {\n",
    "                a <- x_knots[i]\n",
    "                b <- x_knots[i + 1]\n",
    "                h <- f_knots[i]\n",
    "                integrand <- function(x) (h - lambda * exp(-lambda * x))^2\n",
    "                l2_sq_sum <- l2_sq_sum + integrate(integrand, lower = a, upper = b)$value\n",
    "            }\n",
    "            xmax = max(x_knots)\n",
    "            tail_area <- (lambda/2)*exp(-2*lambda*xmax)\n",
    "            return(sqrt(l2_sq_sum + tail_area))\n",
    "        }\n",
    "\n",
    "        convergence_gren <- function(data, start, end, step, lambda) {\n",
    "            n <- start\n",
    "            i <- 1\n",
    "            num_steps <- floor((end - start) / step) + 1\n",
    "            y_values <- numeric(num_steps)\n",
    "            sample_sizes <- numeric(num_steps)\n",
    "\n",
    "            while (n <= end) {\n",
    "                x_values <- data[1:n]\n",
    "                y_values[i] <- l2_distance_grenander_exp(x_values, lambda)\n",
    "                sample_sizes[i] <- n\n",
    "                n <- n + step\n",
    "                i <- i + 1\n",
    "            }\n",
    "\n",
    "            threshold <- 1\n",
    "            keep_indices <- which(y_values <= threshold)\n",
    "\n",
    "            filtered_x <- sample_sizes[keep_indices]\n",
    "            filtered_y <- y_values[keep_indices]\n",
    "\n",
    "            df <- data.frame(x = filtered_x, y = filtered_y)\n",
    "            filename <- paste0(\"grenander_data_lambda=\", lambda, \".csv\")\n",
    "            write.csv(df, filename, row.names = FALSE)\n",
    "\n",
    "            p <- ggplot(df, aes(x = x, y = y)) +\n",
    "                geom_point(color = \"blue\") +\n",
    "                geom_line(color = \"blue\") +\n",
    "                labs(title = paste(\"L2 Distance between Grenander Estimator and Exp(\", lambda, \")\", sep = \"\"),\n",
    "                     x = \"Number of Samples\",\n",
    "                     y = \"L2 Distance\") +\n",
    "                theme_minimal()\n",
    "\n",
    "            model <- lm(log10(filtered_y) ~ log10(filtered_x))\n",
    "            slope <- round(coef(model)[2], 3)\n",
    "\n",
    "            df_log <- data.frame(x = log10(filtered_x), y = log10(filtered_y))\n",
    "            plog <- ggplot(df_log, aes(x = x, y = y)) +\n",
    "                geom_point(color = \"blue\") +\n",
    "                geom_smooth(method = \"lm\", se = FALSE, color = \"black\") +\n",
    "                annotate(\"text\", x = min(df_log$x), y = max(df_log$y),\n",
    "                         label = paste(\"Slope =\", slope),\n",
    "                         hjust = 0, vjust = 1, size = 5, fontface = \"bold\") +\n",
    "                labs(title = paste(\"Log-Log Plot (Exp(\", lambda, \"))\", sep = \"\"),\n",
    "                     x = \"log10(Number of Samples)\",\n",
    "                     y = \"log10(L2 Distance)\") +\n",
    "                theme_minimal()\n",
    "\n",
    "            return(p | plog)\n",
    "        }\n",
    "\n",
    "        convergence_gren(data_r, start, end, step, lambda)\n",
    "    ''')\n",
    "\n",
    "    # After R finishes, load the CSV file back into Python\n",
    "    csv_filename = f\"grenander_data_lambda={l}.csv\"\n",
    "    if os.path.exists(csv_filename):\n",
    "        df = pd.read_csv(csv_filename)\n",
    "    else:\n",
    "        print(f\"CSV file {csv_filename} not found.\")\n",
    "        df = None\n",
    "\n",
    "    # Optionally display the plot if you saved it (not included in R code here)\n",
    "    img_path = \"grenander_plot.png\"\n",
    "    if os.path.exists(img_path):\n",
    "        img = Image.open(img_path)\n",
    "        img.show()\n",
    "    else:\n",
    "        print(\"Plot not found.\")\n",
    "\n",
    "    return df\n",
    "\n",
    "\n",
    "\n",
    "\n",
    "\n",
    "\n",
    "\n"
   ]
  },
  {
   "cell_type": "code",
   "execution_count": null,
   "id": "7fb1a9e9",
   "metadata": {},
   "outputs": [],
   "source": [
    "# Example of usage:\n",
    "np.random.seed(123)\n",
    "data = np.random.exponential(scale=1.0, size=50000)\n",
    "df_result = grenander_data(data, start=20000, step=500, end=50000, l=1)\n",
    "print(df_result.head())"
   ]
  },
  {
   "cell_type": "code",
   "execution_count": 1,
   "id": "f7c9be5c",
   "metadata": {
    "scrolled": true
   },
   "outputs": [
    {
     "ename": "NameError",
     "evalue": "name 'sample_size' is not defined",
     "output_type": "error",
     "traceback": [
      "\u001b[31m---------------------------------------------------------------------------\u001b[39m",
      "\u001b[31mNameError\u001b[39m                                 Traceback (most recent call last)",
      "\u001b[36mCell\u001b[39m\u001b[36m \u001b[39m\u001b[32mIn[1]\u001b[39m\u001b[32m, line 5\u001b[39m\n\u001b[32m      2\u001b[39m \u001b[38;5;28;01mimport\u001b[39;00m\u001b[38;5;250m \u001b[39m\u001b[34;01mmatplotlib\u001b[39;00m\u001b[34;01m.\u001b[39;00m\u001b[34;01mpyplot\u001b[39;00m\u001b[38;5;250m \u001b[39m\u001b[38;5;28;01mas\u001b[39;00m\u001b[38;5;250m \u001b[39m\u001b[34;01mplt\u001b[39;00m\n\u001b[32m      4\u001b[39m \u001b[38;5;66;03m# Assume sample_size and l2_distance are Python lists already filled\u001b[39;00m\n\u001b[32m----> \u001b[39m\u001b[32m5\u001b[39m sample_size  = np.asarray(\u001b[43msample_size\u001b[49m, dtype=\u001b[38;5;28mfloat\u001b[39m)\n\u001b[32m      6\u001b[39m l2_distance  = np.asarray(l2_distance, dtype=\u001b[38;5;28mfloat\u001b[39m)\n\u001b[32m      8\u001b[39m x_inv_sqrt = \u001b[32m1.0\u001b[39m / np.sqrt(sample_size) \n",
      "\u001b[31mNameError\u001b[39m: name 'sample_size' is not defined"
     ]
    }
   ],
   "source": [
    "import numpy as np\n",
    "import matplotlib.pyplot as plt\n",
    "\n",
    "# Assume sample_size and l2_distance are Python lists already filled\n",
    "sample_size  = np.asarray(sample_size, dtype=float)\n",
    "l2_distance  = np.asarray(l2_distance, dtype=float)\n",
    "\n",
    "x_inv_sqrt = 1.0 / np.sqrt(sample_size) \n",
    "\n",
    "\n",
    "# ---------- 1. simple linear regression on the original scale ----------\n",
    "slope, intercept = np.polyfit(x_inv, l2_distance, deg=1)   # y ≈ intercept + slope·x\n",
    "y_hat = intercept + slope * x_inv\n",
    "\n",
    "plt.figure(figsize=(6, 4))\n",
    "plt.scatter(x_inv, l2_distance, color=\"steelblue\", label=\"data\")\n",
    "plt.plot(x_inv, y_hat, color=\"firebrick\", lw=2, label=f\"OLS line  y={intercept:.2g}+{slope:.2g}x\")\n",
    "\n",
    "plt.xlabel(\"1 / sample size\")\n",
    "plt.ylabel(\"L2 distance\")\n",
    "plt.title(\"Scatter with OLS regression line\")\n",
    "plt.grid(True, which=\"both\", ls=\"--\", alpha=0.4)\n",
    "plt.legend()\n",
    "plt.show()\n"
   ]
  },
  {
   "cell_type": "code",
   "execution_count": null,
   "id": "4ebceb5f",
   "metadata": {},
   "outputs": [],
   "source": [
    "from scipy.stats import linregress\n",
    "\n",
    "def linreg_report(x, y, name=\"\"):\n",
    "    res = linregress(x, y)\n",
    "    print(f\"[{name}]  slope = {res.slope:.4g},  intercept = {res.intercept:.4g}\")\n",
    "    print(f\"          R^2  = {res.rvalue**2:.4f}\")\n",
    "    print(f\"          p-value for slope ≠ 0  = {res.pvalue:.3g}\")\n",
    "    return res\n",
    "\n",
    "# 1/n model\n",
    "res1 = linreg_report(x_inv, l2_distance, name=\"1/n\")\n",
    "\n",
    "# 1/sqrt(n) model\n",
    "res2 = linreg_report(x_inv_sqrt, l2_distance, name=\"1/sqrt(n)\")\n"
   ]
  },
  {
   "cell_type": "code",
   "execution_count": null,
   "id": "19d3b187",
   "metadata": {},
   "outputs": [],
   "source": [
    "def sample_power_law(p, size=1000):\n",
    "\n",
    "    if p <= 1:\n",
    "        raise ValueError(\"Power p must be greater than 1 for a valid distribution.\")\n",
    "    u = np.random.uniform(0, 1, size)\n",
    "    x = (1 - u) ** (-1 / (p - 1)) - 1 \n",
    "    return x"
   ]
  },
  {
   "cell_type": "code",
   "execution_count": null,
   "id": "20600ebd",
   "metadata": {},
   "outputs": [],
   "source": [
    "data = sample_power_law(80, size=5000) # 500 random samples from an Exponential(λ=1) distribution\n",
    "\n",
    "u, Q_emp = empirical_quantile(data) #Computes the empirical quantile function\n",
    "#Applies a Wasserstein-based convex projection to the empirical quantile function Q_emp, producing a monotone, convex-optimized quantile function\n",
    "Q_proj = convex_projection(u, Q_emp)[0] \n",
    "#estimates the probability density function corresponding to the smoothed quantile function Q_proj\n",
    "x, f_hat = estimate_density(u, Q_proj)\n",
    "\n",
    "# plt.plot(x, f_hat, label='Wasserstein density estimate')\n",
    "plt.hist(data, bins=30, density=True, alpha=0.3, label='Histogram')\n",
    "plt.legend()\n",
    "plt.xlabel(\"x\")\n",
    "plt.ylabel(\"Density\")\n",
    "plt.show()"
   ]
  }
 ],
 "metadata": {
  "kernelspec": {
   "display_name": "ssrp",
   "language": "python",
   "name": "python3"
  },
  "language_info": {
   "codemirror_mode": {
    "name": "ipython",
    "version": 3
   },
   "file_extension": ".py",
   "mimetype": "text/x-python",
   "name": "python",
   "nbconvert_exporter": "python",
   "pygments_lexer": "ipython3",
   "version": "3.11.8"
  }
 },
 "nbformat": 4,
 "nbformat_minor": 5
}
